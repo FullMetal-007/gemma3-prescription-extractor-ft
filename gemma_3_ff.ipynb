{
  "cells": [
    {
      "cell_type": "code",
      "execution_count": null,
      "metadata": {
        "id": "U2XG2EZDZiUj"
      },
      "outputs": [],
      "source": [
        "!unzip -q archive.zip"
      ]
    },
    {
      "cell_type": "code",
      "execution_count": null,
      "metadata": {
        "colab": {
          "base_uri": "https://localhost:8080/"
        },
        "id": "lF3z8Konb-WL",
        "outputId": "12c6a4af-fa10-487e-8c5e-1fd1e2b51c87"
      },
      "outputs": [
        {
          "output_type": "stream",
          "name": "stdout",
          "text": [
            "  Installing build dependencies ... \u001b[?25l\u001b[?25hdone\n",
            "  Getting requirements to build wheel ... \u001b[?25l\u001b[?25hdone\n",
            "  Preparing metadata (pyproject.toml) ... \u001b[?25l\u001b[?25hdone\n",
            "\u001b[2K   \u001b[90m━━━━━━━━━━━━━━━━━━━━━━━━━━━━━━━━━━━━━━━━\u001b[0m \u001b[32m61.3/61.3 MB\u001b[0m \u001b[31m15.9 MB/s\u001b[0m eta \u001b[36m0:00:00\u001b[0m\n",
            "\u001b[2K   \u001b[90m━━━━━━━━━━━━━━━━━━━━━━━━━━━━━━━━━━━━━━━━\u001b[0m \u001b[32m491.5/491.5 kB\u001b[0m \u001b[31m31.0 MB/s\u001b[0m eta \u001b[36m0:00:00\u001b[0m\n",
            "\u001b[2K   \u001b[90m━━━━━━━━━━━━━━━━━━━━━━━━━━━━━━━━━━━━━━━━\u001b[0m \u001b[32m184.8/184.8 kB\u001b[0m \u001b[31m14.3 MB/s\u001b[0m eta \u001b[36m0:00:00\u001b[0m\n",
            "\u001b[2K   \u001b[90m━━━━━━━━━━━━━━━━━━━━━━━━━━━━━━━━━━━━━━━━\u001b[0m \u001b[32m129.2/129.2 kB\u001b[0m \u001b[31m9.5 MB/s\u001b[0m eta \u001b[36m0:00:00\u001b[0m\n",
            "\u001b[2K   \u001b[90m━━━━━━━━━━━━━━━━━━━━━━━━━━━━━━━━━━━━━━━━\u001b[0m \u001b[32m511.9/511.9 kB\u001b[0m \u001b[31m34.3 MB/s\u001b[0m eta \u001b[36m0:00:00\u001b[0m\n",
            "\u001b[2K   \u001b[90m━━━━━━━━━━━━━━━━━━━━━━━━━━━━━━━━━━━━━━━━\u001b[0m \u001b[32m213.6/213.6 kB\u001b[0m \u001b[31m14.6 MB/s\u001b[0m eta \u001b[36m0:00:00\u001b[0m\n",
            "\u001b[?25h  Building wheel for unsloth (pyproject.toml) ... \u001b[?25l\u001b[?25hdone\n",
            "\u001b[2K     \u001b[90m━━━━━━━━━━━━━━━━━━━━━━━━━━━━━━━━━━━━━━━━\u001b[0m \u001b[32m42.0/42.0 kB\u001b[0m \u001b[31m1.7 MB/s\u001b[0m eta \u001b[36m0:00:00\u001b[0m\n",
            "\u001b[2K   \u001b[90m━━━━━━━━━━━━━━━━━━━━━━━━━━━━━━━━━━━━━━━━\u001b[0m \u001b[32m504.9/504.9 kB\u001b[0m \u001b[31m13.0 MB/s\u001b[0m eta \u001b[36m0:00:00\u001b[0m\n",
            "\u001b[2K   \u001b[90m━━━━━━━━━━━━━━━━━━━━━━━━━━━━━━━━━━━━━━━━\u001b[0m \u001b[32m11.3/11.3 MB\u001b[0m \u001b[31m61.3 MB/s\u001b[0m eta \u001b[36m0:00:00\u001b[0m\n",
            "\u001b[?25h"
          ]
        }
      ],
      "source": [
        "!pip install --upgrade \"unsloth[colab-new] @ git+https://github.com/unslothai/unsloth.git\" --quiet\n",
        "!pip install --upgrade --no-deps trl peft accelerate bitsandbytes transformers --quiet"
      ]
    },
    {
      "cell_type": "code",
      "execution_count": null,
      "metadata": {
        "colab": {
          "base_uri": "https://localhost:8080/"
        },
        "id": "9I5FjbcycBY7",
        "outputId": "d04bf6ee-5e0a-4c50-de6f-254d7ee2d94a"
      },
      "outputs": [
        {
          "output_type": "stream",
          "name": "stdout",
          "text": [
            "🦥 Unsloth: Will patch your computer to enable 2x faster free finetuning.\n",
            "🦥 Unsloth Zoo will now patch everything to make training faster!\n"
          ]
        }
      ],
      "source": [
        "from unsloth import FastLanguageModel\n",
        "from datasets import Dataset, Image\n",
        "from trl import SFTTrainer\n",
        "from transformers import TrainingArguments\n",
        "import torch\n",
        "import pandas as pd\n",
        "import json\n"
      ]
    },
    {
      "cell_type": "code",
      "execution_count": null,
      "metadata": {
        "colab": {
          "base_uri": "https://localhost:8080/",
          "height": 514,
          "referenced_widgets": [
            "7966f4707fef492d8309d9573763c152",
            "13fe6a845cac4c77b3fcf3a6f6540274",
            "ec60619c7f994f4e9223abe0112136c8",
            "61a829c763624a60bb93b01864f9ce13",
            "f8b9cb3d14d14d34b258faf446decf5f",
            "d812e143636d495e93d3f8d86429d285",
            "dec03ae3196f4c199953bbf07e594fdf",
            "4ec1d00cd92946fcac179b147362a7bf",
            "1b801d16f1c44e8eb9dd3d2d3f94b7ed",
            "39b9a38e801d4c7faa483ccf80504900",
            "4d1dcd2e775a46e384695f85336e4585",
            "729509a47a7744b1b8a38adaeba7d440",
            "b57bd60e29c2479d8b226be4267882c4",
            "35046e0d923542cf81cab6405e77ec04",
            "68eef56c95f946c5a4fd881f47048a51",
            "0d9a010cfe3b46b5a43e6e63fab77ae4",
            "077cbea0bef549c5a934c387cef0b760",
            "9b8606faa7dc4ad4a2b6222e20de895d",
            "9fa0db4fedf24613a1dcd6e9f62d740e",
            "b242359ba021430b933267f44150751f",
            "7a7217dcf9ee49f5a89c7e77bdeab866",
            "1ea4ffa2a99444588113f6357ae1e4f1",
            "68d5b67d69634e438423757b35a01c9e",
            "abf068558b1d4f8f99bfeefde08180bd",
            "462e23e42111489aa760790b78a6ec0b",
            "d1790beee2fc4e9b94baeffdd3c2a47b",
            "31861494fec4404d9e11f1c76ee56f02",
            "b56476832f0c4eecbebaa0fa9f83ce42",
            "fa5db50c134641d4bf21ebb187a9ac05",
            "194883aca6d1457ea7892a2b90261f9c",
            "c0d8626726d846a19e22c16a25acf919",
            "8d0829c68cd5482dbd63dc9601853d2c",
            "6e7fe0f7f97b4332b2f279d1aaab61f9",
            "28a3b0545c3f45eab571c53ed66d0d4a",
            "3b830030287d4559b493f342bbbe6314",
            "04a19d4479d94123ba330d8c3677fee9",
            "746eee43646f4f1e9a7939f71b323036",
            "464f94a298054741ad2448383d31ef13",
            "3ecc2c1cbf0d42e4b7137d039c111205",
            "3ddbae39ed1c4ad4ad8f020c86166eb6",
            "3be579dc61034bc58000c0906f624508",
            "7d3a78233cb24e0b9cb230c916c88b80",
            "f7b0732871814f6989d542a25c573caa",
            "a70e8d43fb40492ab99ea06c725cb90d",
            "7d16b9c3b721420d843d13fec23bb526",
            "ddca76e52cbc4815bb2361f870d39661",
            "6ec696e35c9a4707bf4ae3688c8a159e",
            "8933884a7963490d9253192791980ea3",
            "f25ae357d89f40e5ab3c80b62229b094",
            "5ad6d17830d040b88a25beef7c0ab955",
            "4b9f6518a7a446279f83496360253949",
            "1f09fbf5b3b94c108e4b05196ac2201e",
            "c9bf22b62b354b278af4705943360845",
            "ac2e8d0afb1544a8b5a2b178340eb276",
            "885fa2a09f7f406493e9b72a0b5e1152",
            "bf144c323abb40038f9aa2ac58dc5328",
            "ce7e90a34f3848608054b1f4f36b3f8e",
            "bbb960dc4ec542b195b2d4601ad5838d",
            "14b21051a3144a6eb397882133863f21",
            "6393d52f53db4e06ab069239f883b65a",
            "8fcc0be30a4b4983ba3a428d71ae0be3",
            "072cb60e65ae4505a9006c0946eedd61",
            "28cd8e87a9e0456ea4deb980c9eedc5c",
            "793d507baa6e479d80fee428f7458bea",
            "7e413d28b6e24ad4ac7f3ba7dbe50e2c",
            "916e64f6144840979878b2199391da32",
            "7e8dab6a484c4313ba697127943b2910",
            "d582242086634fa5843b62d795d5a8ce",
            "3d7aa0846a384870b4953c368854c458",
            "a51f5640a92b46859fdc44937d65ac02",
            "bd38657c88bb4074b5f2ed94863633be",
            "b248e74dc70c41c2b436dc27f0263654",
            "d8e654fd99814f338d88769c3b5f2864",
            "06152e9d86b144e094707871751bd652",
            "c7849499e08a4a53908942986946ba2c",
            "a4b11fb2f9b64053b13527079efc9e6c",
            "cb3003a0796140f38691a6fdfea07348",
            "a14713b2b8fa494795ac4722af1dc69c",
            "34b2c573bc4443f091313ab5867a77fb",
            "ee74ae1628504e9484b75edd42fe4d49",
            "80267cad664c4b7b902e205284d687a9",
            "a8deb788fbd24f0c86b128246c4424eb",
            "c8421158e2824f4487a820ad11205a7a",
            "2e6cbcd911c6404f9bf894518517c044",
            "682c15ae218a481a8a1f5af0f090dc6b",
            "dc73924a16614f19bc799fb65c4fa627",
            "3519c4ddf9444e4b9029ed18f95d9889",
            "c5cc0f2740dd4bf493b4e5e78990bb88",
            "347f241039274cb297c02fb096cd422c",
            "2248ad6f3c7445c79ad5a55d4d4127ff",
            "038dd4d519a745d1ac8e8de02a6a2bf8",
            "402632c4017e411fb497aa8618d0e0cb",
            "f51bab4586534ce8bb40c8b5adcf6216",
            "546d510daf1d4b1e85b05da334370d8f",
            "5bdbfbc7c0784ae58071c8b64b0d34a6",
            "f1d5d040d93d4ba7b57905dd44a50fb4",
            "8cfc3667b6dd4e33976ec60837747a89",
            "83131daaf98348d79b97ab358b98505d",
            "a1d0dce0b2604e6d9355f56b9dfa0344",
            "7d134ae35d80448085fe7050671237a6",
            "d41df6f09bb846eba9f2d655b33f98fe",
            "1c151094b0e343569f3a3d5caa3d19d4",
            "d7b510aff5cc40c09ed58697b5483f48",
            "ecdf4a1bae0a401c85e1389dffb81dd4",
            "0cb0647ae0784397a0f169e36cc9e24f",
            "c66dc998c530465f9784791aba1ef267",
            "6b8b465df7ad42ab9afbe4fce5340bf9",
            "2b6dd526bad9494a8d29b484d8c8c3a1",
            "9ccf9c1cba6b44098b744c528f451d50",
            "313caca2ce81438b86b3e2ca27df7123",
            "2c6284d72d6349a7939204c9c9abbc37",
            "662da5361d514e74a75f33591f889d9f",
            "b76fa8cb4eb84bc4887e97e50a1c07c3",
            "93d3cbb9209e452f93e5f8a98a8ac166",
            "bd41c1d2ab214c209a3803678a278490",
            "87929e64992947a2bf9b951f535efc98",
            "04e2ab3f38044468bf17d63f2b3f8acd",
            "25b4d0e2748e429796425fade2627227",
            "a662cc4a2f5a49d68e369d0cafa251a4",
            "79dbb1cf68764b23a70c58d52f6bb606",
            "30c2ac8845d647f693566cb98d8868c0"
          ]
        },
        "id": "snXfVZCqcHk0",
        "outputId": "8994c4c5-5149-4d89-b696-91044ca62bac"
      },
      "outputs": [
        {
          "output_type": "stream",
          "name": "stdout",
          "text": [
            "==((====))==  Unsloth 2025.8.9: Fast Gemma3 patching. Transformers: 4.55.3.\n",
            "   \\\\   /|    Tesla T4. Num GPUs = 1. Max memory: 14.741 GB. Platform: Linux.\n",
            "O^O/ \\_/ \\    Torch: 2.8.0+cu126. CUDA: 7.5. CUDA Toolkit: 12.6. Triton: 3.4.0\n",
            "\\        /    Bfloat16 = FALSE. FA [Xformers = None. FA2 = False]\n",
            " \"-____-\"     Free license: http://github.com/unslothai/unsloth\n",
            "Unsloth: Fast downloading is enabled - ignore downloading bars which are red colored!\n",
            "Unsloth: Using float16 precision for gemma3 won't work! Using float32.\n"
          ]
        },
        {
          "output_type": "display_data",
          "data": {
            "text/plain": [
              "model.safetensors:   0%|          | 0.00/4.56G [00:00<?, ?B/s]"
            ],
            "application/vnd.jupyter.widget-view+json": {
              "version_major": 2,
              "version_minor": 0,
              "model_id": "7966f4707fef492d8309d9573763c152"
            }
          },
          "metadata": {}
        },
        {
          "output_type": "display_data",
          "data": {
            "text/plain": [
              "generation_config.json:   0%|          | 0.00/210 [00:00<?, ?B/s]"
            ],
            "application/vnd.jupyter.widget-view+json": {
              "version_major": 2,
              "version_minor": 0,
              "model_id": "729509a47a7744b1b8a38adaeba7d440"
            }
          },
          "metadata": {}
        },
        {
          "output_type": "display_data",
          "data": {
            "text/plain": [
              "processor_config.json:   0%|          | 0.00/70.0 [00:00<?, ?B/s]"
            ],
            "application/vnd.jupyter.widget-view+json": {
              "version_major": 2,
              "version_minor": 0,
              "model_id": "68d5b67d69634e438423757b35a01c9e"
            }
          },
          "metadata": {}
        },
        {
          "output_type": "display_data",
          "data": {
            "text/plain": [
              "chat_template.json: 0.00B [00:00, ?B/s]"
            ],
            "application/vnd.jupyter.widget-view+json": {
              "version_major": 2,
              "version_minor": 0,
              "model_id": "28a3b0545c3f45eab571c53ed66d0d4a"
            }
          },
          "metadata": {}
        },
        {
          "output_type": "display_data",
          "data": {
            "text/plain": [
              "chat_template.jinja: 0.00B [00:00, ?B/s]"
            ],
            "application/vnd.jupyter.widget-view+json": {
              "version_major": 2,
              "version_minor": 0,
              "model_id": "7d16b9c3b721420d843d13fec23bb526"
            }
          },
          "metadata": {}
        },
        {
          "output_type": "display_data",
          "data": {
            "text/plain": [
              "preprocessor_config.json:   0%|          | 0.00/570 [00:00<?, ?B/s]"
            ],
            "application/vnd.jupyter.widget-view+json": {
              "version_major": 2,
              "version_minor": 0,
              "model_id": "bf144c323abb40038f9aa2ac58dc5328"
            }
          },
          "metadata": {}
        },
        {
          "output_type": "display_data",
          "data": {
            "text/plain": [
              "tokenizer_config.json: 0.00B [00:00, ?B/s]"
            ],
            "application/vnd.jupyter.widget-view+json": {
              "version_major": 2,
              "version_minor": 0,
              "model_id": "7e8dab6a484c4313ba697127943b2910"
            }
          },
          "metadata": {}
        },
        {
          "output_type": "display_data",
          "data": {
            "text/plain": [
              "tokenizer.model:   0%|          | 0.00/4.69M [00:00<?, ?B/s]"
            ],
            "application/vnd.jupyter.widget-view+json": {
              "version_major": 2,
              "version_minor": 0,
              "model_id": "a14713b2b8fa494795ac4722af1dc69c"
            }
          },
          "metadata": {}
        },
        {
          "output_type": "display_data",
          "data": {
            "text/plain": [
              "tokenizer.json:   0%|          | 0.00/33.4M [00:00<?, ?B/s]"
            ],
            "application/vnd.jupyter.widget-view+json": {
              "version_major": 2,
              "version_minor": 0,
              "model_id": "347f241039274cb297c02fb096cd422c"
            }
          },
          "metadata": {}
        },
        {
          "output_type": "display_data",
          "data": {
            "text/plain": [
              "added_tokens.json:   0%|          | 0.00/35.0 [00:00<?, ?B/s]"
            ],
            "application/vnd.jupyter.widget-view+json": {
              "version_major": 2,
              "version_minor": 0,
              "model_id": "7d134ae35d80448085fe7050671237a6"
            }
          },
          "metadata": {}
        },
        {
          "output_type": "display_data",
          "data": {
            "text/plain": [
              "special_tokens_map.json:   0%|          | 0.00/670 [00:00<?, ?B/s]"
            ],
            "application/vnd.jupyter.widget-view+json": {
              "version_major": 2,
              "version_minor": 0,
              "model_id": "2c6284d72d6349a7939204c9c9abbc37"
            }
          },
          "metadata": {}
        },
        {
          "output_type": "stream",
          "name": "stdout",
          "text": [
            "Training and validation datasets loaded successfully!\n"
          ]
        }
      ],
      "source": [
        "# 1. LOAD THE VISION MODEL\n",
        "model, tokenizer = FastLanguageModel.from_pretrained(\n",
        "    model_name=\"unsloth/gemma-3-4b-it\",\n",
        "    max_seq_length=2048,\n",
        "    load_in_4bit=True,\n",
        ")\n",
        "\n",
        "# 2. LOAD YOUR STRUCTURED DATASETS\n",
        "# Define base path\n",
        "base_path = \"Doctor’s Handwritten Prescription BD dataset/\"\n",
        "\n",
        "# --- Load Training Data ---\n",
        "train_df = pd.read_csv(f\"{base_path}/Training/training_labels.csv\")\n",
        "# Create the full image path\n",
        "train_df['file_path'] = train_df['IMAGE'].apply(lambda x: f\"{base_path}/Training/training_words/{x}\")\n",
        "# Create Hugging Face Dataset and load images\n",
        "train_dataset = Dataset.from_pandas(train_df).cast_column(\"file_path\", Image())\n",
        "\n",
        "# --- Load Validation Data ---\n",
        "val_df = pd.read_csv(f\"{base_path}/Validation/validation_labels.csv\")\n",
        "val_df['file_path'] = val_df['IMAGE'].apply(lambda x: f\"{base_path}/Validation/validation_words/{x}\")\n",
        "val_dataset = Dataset.from_pandas(val_df).cast_column(\"file_path\", Image())\n",
        "\n",
        "print(\"Training and validation datasets loaded successfully!\")\n"
      ]
    },
    {
      "cell_type": "code",
      "execution_count": null,
      "metadata": {
        "colab": {
          "base_uri": "https://localhost:8080/",
          "height": 81,
          "referenced_widgets": [
            "b450f03e2d734b4eb20ea0054e4cc27e",
            "6bbf1ef8a5df425a807fa0cb35e36942",
            "2c343437550b416bbf4b16bc65103561",
            "b09e6f61ad4242d9b7d9f1e1e1c1c2e6",
            "a689e1079cfa4125a8bdccbbe5e04240",
            "9c6086b2bdde471ca1f2d3d59539c28c",
            "6440210d57494c8a98189a4db3388247",
            "0ce96432827b4e6f905d7145d6e77fb3",
            "cb0a62ff18484b399d39c6d1db025d5b",
            "d641dd88fedb46c785d1398b39c430fa",
            "5fad4d4829ad41c4b0fcd63612123796",
            "b780e8f6c4e54cc784d33adae9e3d350",
            "41b3a6e6e20247aebbca4c5dc4c5a45b",
            "33edadaf20574c2d8e0e7d4aafa04a6c",
            "ddb7199d168f47f0933ff1320ed9e507",
            "20cc283531f04fc2b5959f572d582348",
            "534885866d524dadae4808ba695b570d",
            "286ccadae76e45529757a62d19934744",
            "f3607b99102d49afbeecb5b34b0b3601",
            "5d7245e6669f4849aaf71a9de6212c0d",
            "cc51e5c5752240c497671c03bf01e404",
            "8570335128bb409bbf7056e149f632bc"
          ]
        },
        "id": "dQxrzqKicKxV",
        "outputId": "680467d2-9bee-457d-c37e-db428cd29bfb"
      },
      "outputs": [
        {
          "output_type": "display_data",
          "data": {
            "text/plain": [
              "Map:   0%|          | 0/3120 [00:00<?, ? examples/s]"
            ],
            "application/vnd.jupyter.widget-view+json": {
              "version_major": 2,
              "version_minor": 0,
              "model_id": "b450f03e2d734b4eb20ea0054e4cc27e"
            }
          },
          "metadata": {}
        },
        {
          "output_type": "display_data",
          "data": {
            "text/plain": [
              "Map:   0%|          | 0/780 [00:00<?, ? examples/s]"
            ],
            "application/vnd.jupyter.widget-view+json": {
              "version_major": 2,
              "version_minor": 0,
              "model_id": "b780e8f6c4e54cc784d33adae9e3d350"
            }
          },
          "metadata": {}
        }
      ],
      "source": [
        "# 3. PREPARE THE DATA FOR STRUCTURED EXTRACTION\n",
        "instruction = \"You are an expert at reading medical prescriptions. Extract the medicine name and generic name from the image and provide the output in a structured JSON format.\"\n",
        "\n",
        "def formatting_prompts_func(examples):\n",
        "    # The 'file_path' column now contains the loaded images\n",
        "    images = examples[\"file_path\"]\n",
        "    medicine_names = examples[\"MEDICINE_NAME\"]\n",
        "    generic_names = examples[\"GENERIC_NAME\"]\n",
        "\n",
        "    formatted_texts = []\n",
        "    for i in range(len(images)):\n",
        "        assistant_response = json.dumps({\n",
        "            \"medicine_name\": medicine_names[i],\n",
        "            \"generic_name\": generic_names[i]\n",
        "        })\n",
        "        chat = [\n",
        "            {\"role\": \"user\", \"content\": f\"{instruction}\\n<image>\"},\n",
        "            {\"role\": \"assistant\", \"content\": assistant_response}\n",
        "        ]\n",
        "        formatted_texts.append(tokenizer.apply_chat_template(chat, tokenize=False, add_generation_prompt=False))\n",
        "\n",
        "    # Return the images and the new formatted text prompt\n",
        "    return { \"image\": images, \"text\": formatted_texts, }\n",
        "\n",
        "train_dataset = train_dataset.map(formatting_prompts_func, batched=True, remove_columns=train_dataset.column_names)\n",
        "val_dataset = val_dataset.map(formatting_prompts_func, batched=True, remove_columns=val_dataset.column_names)\n"
      ]
    },
    {
      "cell_type": "code",
      "execution_count": null,
      "metadata": {
        "id": "YLXigwuwgQd7"
      },
      "outputs": [],
      "source": [
        "from sklearn.metrics import f1_score\n",
        "import numpy as np\n",
        "import json\n",
        "import re\n",
        "from transformers import AutoTokenizer\n",
        "\n",
        "# Use a separate tokenizer for evaluation\n",
        "eval_tokenizer = AutoTokenizer.from_pretrained(\"unsloth/gemma-3-4b-it\")\n",
        "\n",
        "# ADDED: Ensure a pad token is set. The EOS token is a common choice.\n",
        "if eval_tokenizer.pad_token_id is None:\n",
        "    eval_tokenizer.pad_token_id = eval_tokenizer.eos_token_id\n",
        "\n",
        "def compute_metrics(eval_pred):\n",
        "    predictions, labels = eval_pred\n",
        "\n",
        "    # ADDED: Safety check to filter out invalid token IDs before decoding.\n",
        "    # This clamps all predicted token IDs to the valid vocabulary range.\n",
        "    vocab_size = eval_tokenizer.vocab_size\n",
        "    predictions = np.clip(predictions, 0, vocab_size - 1)\n",
        "\n",
        "    # Decode generated tokens to text\n",
        "    decoded_preds = eval_tokenizer.batch_decode(predictions, skip_special_tokens=True)\n",
        "\n",
        "    # Replace -100 in the labels as we can't decode them\n",
        "    labels = np.where(labels != -100, labels, eval_tokenizer.pad_token_id)\n",
        "    decoded_labels = eval_tokenizer.batch_decode(labels, skip_special_tokens=True)\n",
        "\n",
        "    # Clean up the decoded text to extract only the JSON part\n",
        "    pred_jsons = []\n",
        "    label_jsons = []\n",
        "\n",
        "    for pred, label in zip(decoded_preds, decoded_labels):\n",
        "        pred_assistant_part = pred.split(\"<|start_header_id|>assistant<|end_header_id|>\")[-1].strip()\n",
        "        label_assistant_part = label.split(\"<|start_header_id|>assistant<|end_header_id|>\")[-1].strip()\n",
        "\n",
        "        pred_match = re.search(r'\\{.*\\}', pred_assistant_part, re.DOTALL)\n",
        "        label_match = re.search(r'\\{.*\\}', label_assistant_part, re.DOTALL)\n",
        "\n",
        "        try:\n",
        "            pred_jsons.append(json.loads(pred_match.group(0)) if pred_match else {})\n",
        "            label_jsons.append(json.loads(label_match.group(0)) if label_match else {})\n",
        "        except (json.JSONDecodeError, AttributeError):\n",
        "            pred_jsons.append({})\n",
        "            label_jsons.append({})\n",
        "\n",
        "    # Calculate Exact Match\n",
        "    exact_matches = sum(1 for p, l in zip(pred_jsons, label_jsons) if p == l and l != {})\n",
        "    em_score = exact_matches / len(label_jsons) if len(label_jsons) > 0 else 0\n",
        "\n",
        "    # Calculate F1 score\n",
        "    f1_scores = []\n",
        "    for p, l in zip(pred_jsons, label_jsons):\n",
        "        true_set = set(l.items())\n",
        "        pred_set = set(p.items())\n",
        "\n",
        "        tp = len(true_set.intersection(pred_set))\n",
        "        fp = len(pred_set.difference(true_set))\n",
        "        fn = len(true_set.difference(pred_set))\n",
        "\n",
        "        precision = tp / (tp + fp) if (tp + fp) > 0 else 0\n",
        "        recall = tp / (tp + fn) if (tp + fn) > 0 else 0\n",
        "\n",
        "        f1 = 2 * (precision * recall) / (precision + recall) if (precision + recall) > 0 else 0\n",
        "        f1_scores.append(f1)\n",
        "\n",
        "    avg_f1 = np.mean(f1_scores)\n",
        "\n",
        "    return {\"exact_match\": em_score, \"f1_score\": avg_f1}"
      ]
    },
    {
      "cell_type": "code",
      "execution_count": null,
      "metadata": {
        "id": "5h8BCyf-jmoT"
      },
      "outputs": [],
      "source": [
        "from trl import SFTTrainer\n",
        "from typing import Optional, Tuple, Union, List, Dict, Any\n",
        "import torch\n",
        "\n",
        "class SFTTrainerWithGeneration(SFTTrainer):\n",
        "    def prediction_step(\n",
        "        self,\n",
        "        model: torch.nn.Module,\n",
        "        inputs: Dict[str, Union[torch.Tensor, Any]],\n",
        "        prediction_loss_only: bool,\n",
        "        ignore_keys: Optional[List[str]] = None,\n",
        "    ) -> Tuple[Optional[torch.Tensor], Optional[torch.Tensor], Optional[torch.Tensor]]:\n",
        "\n",
        "        # Extract the labels before they are processed by the model\n",
        "        labels = inputs.get(\"labels\")\n",
        "\n",
        "        # Use the model's generate function to get the predictions\n",
        "        # This is the core of the workaround\n",
        "        with torch.no_grad():\n",
        "            generated_tokens = model.generate(\n",
        "                input_ids=inputs.get(\"input_ids\"),\n",
        "                attention_mask=inputs.get(\"attention_mask\"),\n",
        "                pixel_values=inputs.get(\"pixel_values\"),\n",
        "                max_new_tokens=128,  # Adjust as needed\n",
        "                do_sample=False,     # Use greedy decoding for consistent evaluation\n",
        "            )\n",
        "\n",
        "        # The trainer expects a tuple of (loss, predictions, labels)\n",
        "        # We don't calculate loss here, so we return None for it.\n",
        "        # The generated_tokens are our predictions.\n",
        "        return (None, generated_tokens, labels)"
      ]
    },
    {
      "cell_type": "code",
      "execution_count": null,
      "metadata": {
        "colab": {
          "base_uri": "https://localhost:8080/",
          "height": 210,
          "referenced_widgets": [
            "164f01940aa948e4a9373058453561aa",
            "b65dc24add324de1a6f6dcd34f390b62",
            "7a5d547553194086a8de3c1cd1cd144b",
            "1c67839ad6794080bffba3e23434703d",
            "fcf500b5abbd4c8b83cb78ef17617e18",
            "0c05520caa7b4fa3a1201e1d41ccefaf",
            "f3e1baf5320e456cafd157c574cc217b",
            "b0231f8e3ef84278a33f16be5f37ba5c",
            "797c237246114859a42205288f172358",
            "123bbe92afcf498fbd76362dfe87c45f",
            "d6caaf05c31a4df4bea637b3cb7ed56b",
            "918ba229e55a4c0b9dbebc315d9df48d",
            "2c880398cb594a138015ae2d4de16b27",
            "1a6b615759944096a6859e8caccf2cc3",
            "0e41066b6c9340b4b10dd6e5cbed46bd",
            "9f458abd631d40b7832a288d4cd76393",
            "3b6fa9fc5c0a4f1bab71f043946f7b71",
            "b095679036df4ba38bc553adc75bb0a9",
            "544314eb52bb4721b9b71006757e3076",
            "94be0e8b177944f8ac9223c47b7450c6",
            "a507fc5701994a3ca4d3aef8e3fd4dce",
            "24a820eeb60c47538ac27c23b7fdd6b9"
          ]
        },
        "id": "EUN9r6AicNYD",
        "outputId": "453b44df-423e-4604-81d0-ceba7becc2e2"
      },
      "outputs": [
        {
          "output_type": "stream",
          "name": "stderr",
          "text": [
            "/usr/local/lib/python3.12/dist-packages/peft/mapping_func.py:73: UserWarning: You are trying to modify a model with PEFT for a second time. If you want to reload the model with a different config, make sure to call `.unload()` before.\n",
            "  warnings.warn(\n",
            "/usr/local/lib/python3.12/dist-packages/peft/tuners/tuners_utils.py:196: UserWarning: Already found a `peft_config` attribute in the model. This will lead to having multiple adapters in the model. Make sure to know what you are doing!\n",
            "  warnings.warn(\n"
          ]
        },
        {
          "output_type": "stream",
          "name": "stdout",
          "text": [
            "Unsloth: Making `base_model.model.base_model.model.model.vision_tower.vision_model` require gradients\n",
            "Unsloth: Switching to float32 training since model cannot work with float16\n"
          ]
        },
        {
          "output_type": "display_data",
          "data": {
            "text/plain": [
              "Unsloth: Tokenizing [\"text\"]:   0%|          | 0/3120 [00:00<?, ? examples/s]"
            ],
            "application/vnd.jupyter.widget-view+json": {
              "version_major": 2,
              "version_minor": 0,
              "model_id": "164f01940aa948e4a9373058453561aa"
            }
          },
          "metadata": {}
        },
        {
          "output_type": "display_data",
          "data": {
            "text/plain": [
              "Unsloth: Tokenizing [\"text\"]:   0%|          | 0/780 [00:00<?, ? examples/s]"
            ],
            "application/vnd.jupyter.widget-view+json": {
              "version_major": 2,
              "version_minor": 0,
              "model_id": "918ba229e55a4c0b9dbebc315d9df48d"
            }
          },
          "metadata": {}
        }
      ],
      "source": [
        "model = FastLanguageModel.get_peft_model(\n",
        "    model, r=16,\n",
        "    target_modules=[\"q_proj\", \"k_proj\", \"v_proj\", \"o_proj\", \"gate_proj\", \"up_proj\", \"down_proj\"],\n",
        "    lora_alpha=16, lora_dropout=0, bias=\"none\",\n",
        "    use_gradient_checkpointing=True, random_state=3407,\n",
        ")\n",
        "\n",
        "trainer = SFTTrainerWithGeneration(\n",
        "    model=model,\n",
        "    tokenizer=tokenizer,\n",
        "    train_dataset=train_dataset,\n",
        "    eval_dataset=val_dataset,\n",
        "    dataset_text_field=\"text\",\n",
        "    max_seq_length=2048,\n",
        "    compute_metrics=compute_metrics,\n",
        "    args=TrainingArguments(\n",
        "        output_dir=\"outputs\",\n",
        "        per_device_train_batch_size=2,\n",
        "        gradient_accumulation_steps=4,\n",
        "        max_steps=100,\n",
        "        learning_rate=2e-4,\n",
        "        logging_steps=5,\n",
        "        eval_strategy=\"steps\",\n",
        "        eval_steps=20,\n",
        "        save_strategy=\"steps\",\n",
        "        save_steps=20,\n",
        "        optim=\"adamw_8bit\",\n",
        "        seed=3407,\n",
        "    ),\n",
        ")\n"
      ]
    },
    {
      "cell_type": "code",
      "execution_count": null,
      "metadata": {
        "colab": {
          "base_uri": "https://localhost:8080/",
          "height": 341
        },
        "id": "ZzYF0-DJcPXV",
        "outputId": "2ee2408a-cbe7-4049-fdc9-947a47c59c64"
      },
      "outputs": [
        {
          "output_type": "stream",
          "name": "stderr",
          "text": [
            "==((====))==  Unsloth - 2x faster free finetuning | Num GPUs used = 1\n",
            "   \\\\   /|    Num examples = 3,120 | Num Epochs = 1 | Total steps = 100\n",
            "O^O/ \\_/ \\    Batch size per device = 2 | Gradient accumulation steps = 4\n",
            "\\        /    Data Parallel GPUs = 1 | Total batch size (2 x 4 x 1) = 8\n",
            " \"-____-\"     Trainable parameters = 32,788,480 of 4,332,867,952 (0.76% trained)\n"
          ]
        },
        {
          "output_type": "display_data",
          "data": {
            "text/plain": [
              "<IPython.core.display.HTML object>"
            ],
            "text/html": [
              "\n",
              "    <div>\n",
              "      \n",
              "      <progress value='100' max='100' style='width:300px; height:20px; vertical-align: middle;'></progress>\n",
              "      [100/100 38:27, Epoch 0/1]\n",
              "    </div>\n",
              "    <table border=\"1\" class=\"dataframe\">\n",
              "  <thead>\n",
              " <tr style=\"text-align: left;\">\n",
              "      <th>Step</th>\n",
              "      <th>Training Loss</th>\n",
              "      <th>Validation Loss</th>\n",
              "      <th>Exact Match</th>\n",
              "      <th>F1 Score</th>\n",
              "    </tr>\n",
              "  </thead>\n",
              "  <tbody>\n",
              "    <tr>\n",
              "      <td>20</td>\n",
              "      <td>0.465700</td>\n",
              "      <td>No log</td>\n",
              "      <td>1.000000</td>\n",
              "      <td>1.000000</td>\n",
              "    </tr>\n",
              "    <tr>\n",
              "      <td>40</td>\n",
              "      <td>0.190900</td>\n",
              "      <td>No log</td>\n",
              "      <td>1.000000</td>\n",
              "      <td>1.000000</td>\n",
              "    </tr>\n",
              "    <tr>\n",
              "      <td>60</td>\n",
              "      <td>0.131100</td>\n",
              "      <td>No log</td>\n",
              "      <td>1.000000</td>\n",
              "      <td>1.000000</td>\n",
              "    </tr>\n",
              "    <tr>\n",
              "      <td>80</td>\n",
              "      <td>0.118000</td>\n",
              "      <td>No log</td>\n",
              "      <td>0.987179</td>\n",
              "      <td>0.987179</td>\n",
              "    </tr>\n",
              "    <tr>\n",
              "      <td>100</td>\n",
              "      <td>0.100100</td>\n",
              "      <td>No log</td>\n",
              "      <td>1.000000</td>\n",
              "      <td>1.000000</td>\n",
              "    </tr>\n",
              "  </tbody>\n",
              "</table><p>"
            ]
          },
          "metadata": {}
        },
        {
          "output_type": "stream",
          "name": "stdout",
          "text": [
            "Fine-tuning complete!\n"
          ]
        }
      ],
      "source": [
        "trainer.train()\n",
        "\n",
        "print(\"Fine-tuning complete!\")"
      ]
    },
    {
      "cell_type": "code",
      "execution_count": null,
      "metadata": {
        "colab": {
          "base_uri": "https://localhost:8080/"
        },
        "id": "RLAKX2yvenW8",
        "outputId": "c79c85b0-44c0-4913-ff09-1ccae387f72b"
      },
      "outputs": [
        {
          "output_type": "stream",
          "name": "stdout",
          "text": [
            "Final model saved to 'gemma3_prescription_extractor_fm'\n"
          ]
        }
      ],
      "source": [
        "model.save_pretrained(\"gemma3_prescription_extractor_fm\")\n",
        "tokenizer.save_pretrained(\"gemma3_prescription_extractor_fm\")\n",
        "\n",
        "print(\"Final model saved to 'gemma3_prescription_extractor_fm'\")"
      ]
    },
    {
      "cell_type": "code",
      "execution_count": null,
      "metadata": {
        "colab": {
          "base_uri": "https://localhost:8080/",
          "height": 294
        },
        "id": "m79IbZHvemzH",
        "outputId": "024d8b13-a110-4d7f-ee64-273bee430707"
      },
      "outputs": [
        {
          "output_type": "display_data",
          "data": {
            "text/plain": [
              "<Figure size 2000x700 with 2 Axes>"
            ],
            "image/png": "[encoded data removed]"
          },
          "metadata": {}
        }
      ],
      "source": [
        "import pandas as pd\n",
        "import matplotlib.pyplot as plt\n",
        "import seaborn as sns\n",
        "\n",
        "# Access the training log history\n",
        "log_history = trainer.state.log_history\n",
        "\n",
        "# Convert the log history to a pandas DataFrame\n",
        "df = pd.DataFrame(log_history)\n",
        "\n",
        "# Separate training and evaluation logs\n",
        "train_logs = df[df['loss'].notna()].copy()\n",
        "# CHANGED: We now filter for any evaluation metric, like 'eval_exact_match'\n",
        "eval_logs = df[df['eval_exact_match'].notna()].copy()\n",
        "\n",
        "# Rename columns for clarity in plots\n",
        "train_logs.rename(columns={'loss': 'Training Loss'}, inplace=True)\n",
        "eval_logs.rename(columns={'eval_exact_match': 'Exact Match',\n",
        "                          'eval_f1_score': 'F1 Score'}, inplace=True)\n",
        "\n",
        "# Set the style for the plots\n",
        "sns.set_style(\"whitegrid\")\n",
        "\n",
        "# Create a figure with two subplots side-by-side\n",
        "fig, (ax1, ax2) = plt.subplots(1, 2, figsize=(20, 7))\n",
        "\n",
        "# --- Plot 1: Training Loss ---\n",
        "# CHANGED: This plot now only shows the Training Loss\n",
        "sns.lineplot(data=train_logs, x='step', y='Training Loss', ax=ax1, label='Training Loss', marker='o', color='royalblue')\n",
        "ax1.set_title('Training Loss Over Steps', fontsize=16)\n",
        "ax1.set_xlabel('Training Steps')\n",
        "ax1.set_ylabel('Loss')\n",
        "ax1.legend()\n",
        "\n",
        "# --- Plot 2: Accuracy Metrics (This part is the same) ---\n",
        "sns.lineplot(data=eval_logs, x='step', y='Exact Match', ax=ax2, label='Exact Match', marker='o', color='green')\n",
        "sns.lineplot(data=eval_logs, x='step', y='F1 Score', ax=ax2, label='F1 Score', marker='o', color='purple')\n",
        "ax2.set_title('Accuracy Metrics Over Steps', fontsize=16)\n",
        "ax2.set_xlabel('Training Steps')\n",
        "ax2.set_ylabel('Accuracy Score')\n",
        "ax2.set_ylim(0, 1.1)\n",
        "ax2.legend()\n",
        "\n",
        "plt.tight_layout()\n",
        "plt.savefig(\"model_performance_charts.png\")\n",
        "plt.show()"
      ]
    },
    {
      "cell_type": "code",
      "source": [],
      "metadata": {
        "id": "HQXmTHMb6SVX"
      },
      "execution_count": null,
      "outputs": []
    }
  ],
  "metadata": {
    "accelerator": "GPU",
    "colab": {
      "gpuType": "T4",
      "provenance": []
    },
    "kernelspec": {
      "display_name": "Python 3",
      "name": "python3"
    },
    "language_info": {
      "name": "python"
    }
  },
  "nbformat": 4,
  "nbformat_minor": 0
}
